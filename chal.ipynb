{
 "cells": [
  {
   "cell_type": "code",
   "execution_count": 1,
   "source": [
    "import tensorflow as tf\r\n",
    "from tensorflow import keras\r\n",
    "from tensorflow.keras.models import Sequential\r\n",
    "from tensorflow.keras.preprocessing.image import ImageDataGenerator\r\n",
    "\r\n",
    "from sklearn.metrics import classification_report\r\n",
    "from sklearn.metrics import confusion_matrix\r\n",
    "\r\n",
    "from tensorflow.keras.callbacks import EarlyStopping\r\n",
    "from tensorflow.keras import layers\r\n",
    "\r\n",
    "import matplotlib.pyplot as plt\r\n",
    "import numpy as np"
   ],
   "outputs": [],
   "metadata": {}
  },
  {
   "cell_type": "code",
   "execution_count": 2,
   "source": [
    "BATCH_SIZE = 32\r\n",
    "LEARNING_RATE = .001"
   ],
   "outputs": [],
   "metadata": {}
  },
  {
   "cell_type": "code",
   "execution_count": 4,
   "source": [
    "training_generator = ImageDataGenerator(rescale=1./255, rotation_range=25, width_shift_range=0.05, height_shift_range=0.05, zoom_range=0.1)\r\n",
    "test_generator = ImageDataGenerator(rescale=1./255)\r\n",
    "\r\n",
    "train_it = training_generator.flow_from_directory('Covid19-dataset/train/', target_size=(256,256), color_mode=\"grayscale\", class_mode=\"categorical\", batch_size=BATCH_SIZE)\r\n",
    "\r\n",
    "test_it = test_generator.flow_from_directory('Covid19-dataset/test/', target_size=(256,256), color_mode=\"grayscale\", class_mode=\"categorical\", batch_size=BATCH_SIZE)"
   ],
   "outputs": [
    {
     "output_type": "stream",
     "name": "stdout",
     "text": [
      "Found 251 images belonging to 3 classes.\n",
      "Found 66 images belonging to 3 classes.\n"
     ]
    }
   ],
   "metadata": {}
  },
  {
   "cell_type": "code",
   "execution_count": 5,
   "source": [
    "def BuildModel(l_rate):\r\n",
    "    model = Sequential()\r\n",
    "    # Input\r\n",
    "    model.add(keras.Input(shape=(256,256,1)))\r\n",
    "    # Hidden Layers\r\n",
    "    model.add(layers.Conv2D(5, 5, activation='relu', strides=3))\r\n",
    "    model.add(layers.MaxPooling2D(pool_size=(2,2),strides=(2,2)))\r\n",
    "    model.add(layers.Dropout(0.1))\r\n",
    "    # Hidden Layers\r\n",
    "    model.add(layers.Conv2D(4, 3, activation='relu', strides=1))\r\n",
    "    model.add(layers.MaxPooling2D(pool_size=(2,2),strides=(2,2)))\r\n",
    "    model.add(layers.Dropout(0.2))\r\n",
    "    # Flatten\r\n",
    "    model.add(layers.Flatten())\r\n",
    "    # Output\r\n",
    "    model.add(layers.Dense(3, activation='softmax'))\r\n",
    "\r\n",
    "    # Compile\r\n",
    "    model.compile(\r\n",
    "        optimizer=keras.optimizers.Adam(learning_rate=l_rate), \r\n",
    "        loss=keras.losses.CategoricalCrossentropy(), \r\n",
    "        metrics=[keras.metrics.CategoricalAccuracy(), keras.metrics.AUC()]\r\n",
    "    )\r\n",
    "\r\n",
    "    return model"
   ],
   "outputs": [],
   "metadata": {}
  },
  {
   "cell_type": "code",
   "execution_count": 6,
   "source": [
    "model = BuildModel(LEARNING_RATE)\r\n",
    "stop = EarlyStopping(monitor='val_auc', mode='min', patience=20, verbose=1)\r\n",
    "\r\n",
    "model.summary()"
   ],
   "outputs": [
    {
     "output_type": "stream",
     "name": "stdout",
     "text": [
      "Model: \"sequential\"\n",
      "_________________________________________________________________\n",
      "Layer (type)                 Output Shape              Param #   \n",
      "=================================================================\n",
      "conv2d (Conv2D)              (None, 84, 84, 5)         130       \n",
      "_________________________________________________________________\n",
      "max_pooling2d (MaxPooling2D) (None, 42, 42, 5)         0         \n",
      "_________________________________________________________________\n",
      "dropout (Dropout)            (None, 42, 42, 5)         0         \n",
      "_________________________________________________________________\n",
      "conv2d_1 (Conv2D)            (None, 40, 40, 4)         184       \n",
      "_________________________________________________________________\n",
      "max_pooling2d_1 (MaxPooling2 (None, 20, 20, 4)         0         \n",
      "_________________________________________________________________\n",
      "dropout_1 (Dropout)          (None, 20, 20, 4)         0         \n",
      "_________________________________________________________________\n",
      "flatten (Flatten)            (None, 1600)              0         \n",
      "_________________________________________________________________\n",
      "dense (Dense)                (None, 3)                 4803      \n",
      "=================================================================\n",
      "Total params: 5,117\n",
      "Trainable params: 5,117\n",
      "Non-trainable params: 0\n",
      "_________________________________________________________________\n"
     ]
    }
   ],
   "metadata": {}
  },
  {
   "cell_type": "code",
   "execution_count": 7,
   "source": [
    "history = model.fit(\r\n",
    "    train_it,\r\n",
    "        steps_per_epoch=train_it.samples/BATCH_SIZE, \r\n",
    "        epochs=20,\r\n",
    "        validation_data=test_it,\r\n",
    "        validation_steps=test_it.samples/BATCH_SIZE,\r\n",
    "        callbacks=[stop],\r\n",
    "        verbose=0\r\n",
    ")\r\n",
    "\r\n",
    "plt.plot(history.epoch, history.history['loss'])\r\n",
    "plt.plot(history.epoch, history.history['categorical_accuracy'])\r\n",
    "plt.ylabel='loss/accuracy'\r\n",
    "plt.xlabel='epochs'\r\n",
    "plt.show()"
   ],
   "outputs": [
    {
     "output_type": "stream",
     "name": "stdout",
     "text": [
      "Epoch 00021: early stopping\n"
     ]
    },
    {
     "output_type": "display_data",
     "data": {
      "image/png": "[encoded data removed]",
      "text/plain": [
       "<Figure size 432x288 with 1 Axes>"
      ]
     },
     "metadata": {
      "needs_background": "light"
     }
    }
   ],
   "metadata": {}
  },
  {
   "cell_type": "code",
   "execution_count": 25,
   "source": [
    "test_steps_per_epoch = np.math.ceil(test_it.samples / test_it.batch_size)\r\n",
    "labels = model.predict(test_it, steps=test_steps_per_epoch)\r\n",
    "labels = np.argmax(labels, axis=-1)\r\n",
    "\r\n",
    "true = test_it.classes\r\n",
    "class_labels = list(test_it.class_indices.keys())\r\n",
    "report = classification_report(true, labels, target_names=class_labels)\r\n",
    "print(report)"
   ],
   "outputs": [
    {
     "output_type": "stream",
     "name": "stdout",
     "text": [
      "              precision    recall  f1-score   support\n",
      "\n",
      "       Covid       0.25      0.23      0.24        26\n",
      "      Normal       0.32      0.30      0.31        20\n",
      "   Pneumonia       0.26      0.30      0.28        20\n",
      "\n",
      "    accuracy                           0.27        66\n",
      "   macro avg       0.28      0.28      0.28        66\n",
      "weighted avg       0.27      0.27      0.27        66\n",
      "\n"
     ]
    }
   ],
   "metadata": {}
  }
 ],
 "metadata": {
  "orig_nbformat": 4,
  "language_info": {
   "name": "python",
   "version": "3.8.0",
   "mimetype": "text/x-python",
   "codemirror_mode": {
    "name": "ipython",
    "version": 3
   },
   "pygments_lexer": "ipython3",
   "nbconvert_exporter": "python",
   "file_extension": ".py"
  },
  "kernelspec": {
   "name": "python3",
   "display_name": "Python 3.8.0 64-bit ('tf': conda)"
  },
  "interpreter": {
   "hash": "b4d5690c7fc53426ceb5473e6db252e7013b03c72d66de878a46cbace9ce343d"
  }
 },
 "nbformat": 4,
 "nbformat_minor": 2
}